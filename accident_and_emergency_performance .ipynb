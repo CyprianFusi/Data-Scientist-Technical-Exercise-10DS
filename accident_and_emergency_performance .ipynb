{
 "cells": [
  {
   "cell_type": "markdown",
   "id": "e3a0faa2",
   "metadata": {},
   "source": [
    "## <img src= '10DS_icon2.png' width = '80' height = '80' align = 'left'/> Data Scientist Technical Exercise\n",
    "### Accident and Emergency (A&E) Performance \n",
    "The government is committed to improving **Accident and Emergency (A&E) Performance**. The headline \n",
    "performance measure for A&E is the **proportion of A&E attendances that are admitted, transferred \n",
    "or discharged from A&E within 4-hours of arrival**. As an interim target, NHSE is targeting a **national average of `0.76 (76%)`** 4-hour performance in **March 2024**. All A&E attendances are included in this \n",
    "measure.\n",
    "\n",
    "### The Task\n",
    "**Tier three support** started in **April 2023** for the following ICBs:\n",
    "\n",
    "1. NHS Cheshire And Merseyside Integrated Care Board \n",
    "2. NHS Cornwall And The Isles Of Scilly Integrated Care Board \n",
    "3. NHS Devon Integrated Care Board \n",
    "4. NHS Greater Manchester Integrated Care Board \n",
    "5. NHS Kent And Medway Integrated Care Board \n",
    "6. NHS Norfolk And Waveney Integrated Care Board \n",
    "7. NHS North East London Integrated Care Board \n",
    "\n",
    "**The Secretary of State for Health has asked me to analyse NHS data to determine what impact (if \n",
    "any) the `tiering system has had on the performance of the ICBs receiving tier three support`.**\n",
    "\n",
    "### The Dataset\n",
    "The main page for A&E performance data can be found here: [Statistics » A&E Attendances and \n",
    "Emergency Admissions (england.nhs.uk)](https://www.england.nhs.uk/statistics/statistical-work-areas/ae-waiting-times-and-activity/).\n",
    "\n",
    "For my convenience, a zip file containing the monthly data on ICB level performance as CSVs, back to April 2022 has been provided. This includes data on attendances, admissions, four\n",
    "hour performance and waits from decision-to-admit. The equivalent excel files \n",
    "(which include ***additional notes on the data***) in the “Monthly Data” section of the page above can also be downloaded. \n",
    "\n",
    "#### Advice from No 10 Delivery Unit\n",
    "**No 10 Delivery Unit** have advised that I may (wish to) consider:\n",
    "\n",
    "* Has **being in Tier 3 impacted performance**? \n",
    "* If so, **where has it had the most impact?**  \n",
    "* How does the **impact at trust-level differ from the impact at ICB-level?** \n",
    "* Has the **tiering system targeted the right ICBs?** \n",
    "* How would you approach tiering if were to repeat this exercise next year? \n",
    "* How you would develop your analysis further given more time?\n",
    "\n",
    "### Analysis Approach\n",
    "This notebook includes the following sections and/or visualizations:\n",
    "\n"
   ]
  },
  {
   "cell_type": "code",
   "execution_count": 1,
   "id": "1a52430f",
   "metadata": {},
   "outputs": [],
   "source": [
    "import pandas as pd\n",
    "import numpy as np\n",
    "from scipy import stats\n",
    "import statsmodels.api as sm\n",
    "import seaborn as sns\n",
    "import matplotlib.pyplot as plt\n",
    "import warnings\n",
    "warnings.filterwarnings('ignore')\n",
    "%matplotlib inline"
   ]
  },
  {
   "cell_type": "markdown",
   "id": "f1418b96",
   "metadata": {},
   "source": [
    "### Load and Explore the datasets"
   ]
  },
  {
   "cell_type": "code",
   "execution_count": 2,
   "id": "4b4d7d99",
   "metadata": {},
   "outputs": [],
   "source": [
    "from glob import glob\n",
    "\n",
    "ae_files = sorted(glob('./data_ICB_Level/*.csv'))\n",
    "#ae_files"
   ]
  },
  {
   "cell_type": "code",
   "execution_count": 3,
   "id": "4346eb5a",
   "metadata": {},
   "outputs": [
    {
     "name": "stdout",
     "output_type": "stream",
     "text": [
      "(924, 26)\n"
     ]
    },
    {
     "data": {
      "text/html": [
       "<div>\n",
       "<style scoped>\n",
       "    .dataframe tbody tr th:only-of-type {\n",
       "        vertical-align: middle;\n",
       "    }\n",
       "\n",
       "    .dataframe tbody tr th {\n",
       "        vertical-align: top;\n",
       "    }\n",
       "\n",
       "    .dataframe thead th {\n",
       "        text-align: right;\n",
       "    }\n",
       "</style>\n",
       "<table border=\"1\" class=\"dataframe\">\n",
       "  <thead>\n",
       "    <tr style=\"text-align: right;\">\n",
       "      <th></th>\n",
       "      <th>Code</th>\n",
       "      <th>System</th>\n",
       "      <th>Attendances (Type 1)</th>\n",
       "      <th>Attendances (Type 2)</th>\n",
       "      <th>Attendances (Type 3)</th>\n",
       "      <th>Attendances (Total)</th>\n",
       "      <th>Attendances in 4 hours or less (Type 1)</th>\n",
       "      <th>Attendances in 4 hours or less (Type 2)</th>\n",
       "      <th>Attendances under 4 hours (Type 3)</th>\n",
       "      <th>Attendances under 4 hours (Total)</th>\n",
       "      <th>...</th>\n",
       "      <th>Percentage in 4 hours or less (Type 2)</th>\n",
       "      <th>Percentage in 4 hours or less (Type 3)</th>\n",
       "      <th>Emergency Admissions via Type 1 A&amp;E</th>\n",
       "      <th>Emergency Admissions via Type 2 A&amp;E</th>\n",
       "      <th>Emergency Admissions via Type 3 and 4 A&amp;E</th>\n",
       "      <th>Total Emergency Admissions via A&amp;E</th>\n",
       "      <th>Other Emergency admissions (i.e not via A&amp;E)</th>\n",
       "      <th>Total Emergency Admissions</th>\n",
       "      <th>Number of patients spending &gt;4 hours from decision to admit to admission</th>\n",
       "      <th>Number of patients spending &gt;12 hours from decision to admit to admission</th>\n",
       "    </tr>\n",
       "  </thead>\n",
       "  <tbody>\n",
       "    <tr>\n",
       "      <th>0</th>\n",
       "      <td>QOX</td>\n",
       "      <td>NHS Bath And North East Somerset, Swindon And ...</td>\n",
       "      <td>16,474</td>\n",
       "      <td>249</td>\n",
       "      <td>8,983</td>\n",
       "      <td>25,706</td>\n",
       "      <td>9,432</td>\n",
       "      <td>249</td>\n",
       "      <td>8,855</td>\n",
       "      <td>18,536</td>\n",
       "      <td>...</td>\n",
       "      <td>100.00%</td>\n",
       "      <td>98.60%</td>\n",
       "      <td>5,310</td>\n",
       "      <td>0</td>\n",
       "      <td>8</td>\n",
       "      <td>5,318</td>\n",
       "      <td>3,136</td>\n",
       "      <td>8,454</td>\n",
       "      <td>2,070</td>\n",
       "      <td>158</td>\n",
       "    </tr>\n",
       "    <tr>\n",
       "      <th>1</th>\n",
       "      <td>QHG</td>\n",
       "      <td>NHS Bedfordshire, Luton And Milton Keynes Inte...</td>\n",
       "      <td>21,440</td>\n",
       "      <td>0</td>\n",
       "      <td>11,045</td>\n",
       "      <td>32,485</td>\n",
       "      <td>6,097</td>\n",
       "      <td>0</td>\n",
       "      <td>6,719</td>\n",
       "      <td>12,816</td>\n",
       "      <td>...</td>\n",
       "      <td>-</td>\n",
       "      <td>98.90%</td>\n",
       "      <td>6,195</td>\n",
       "      <td>0</td>\n",
       "      <td>0</td>\n",
       "      <td>6,195</td>\n",
       "      <td>2,006</td>\n",
       "      <td>8,201</td>\n",
       "      <td>373</td>\n",
       "      <td>0</td>\n",
       "    </tr>\n",
       "    <tr>\n",
       "      <th>2</th>\n",
       "      <td>QHL</td>\n",
       "      <td>NHS Birmingham And Solihull Integrated Care Board</td>\n",
       "      <td>36,567</td>\n",
       "      <td>0</td>\n",
       "      <td>15,427</td>\n",
       "      <td>51,994</td>\n",
       "      <td>21,443</td>\n",
       "      <td>0</td>\n",
       "      <td>15,427</td>\n",
       "      <td>36,870</td>\n",
       "      <td>...</td>\n",
       "      <td>-</td>\n",
       "      <td>100.00%</td>\n",
       "      <td>9,699</td>\n",
       "      <td>0</td>\n",
       "      <td>0</td>\n",
       "      <td>9,699</td>\n",
       "      <td>4,654</td>\n",
       "      <td>14,353</td>\n",
       "      <td>4,983</td>\n",
       "      <td>271</td>\n",
       "    </tr>\n",
       "    <tr>\n",
       "      <th>3</th>\n",
       "      <td>QUY</td>\n",
       "      <td>NHS Bristol, North Somerset And South Gloucest...</td>\n",
       "      <td>21,228</td>\n",
       "      <td>1,949</td>\n",
       "      <td>4,289</td>\n",
       "      <td>27,466</td>\n",
       "      <td>11,888</td>\n",
       "      <td>1,894</td>\n",
       "      <td>4,279</td>\n",
       "      <td>18,061</td>\n",
       "      <td>...</td>\n",
       "      <td>97.20%</td>\n",
       "      <td>99.80%</td>\n",
       "      <td>6,031</td>\n",
       "      <td>10</td>\n",
       "      <td>0</td>\n",
       "      <td>6,041</td>\n",
       "      <td>2,509</td>\n",
       "      <td>8,550</td>\n",
       "      <td>2,720</td>\n",
       "      <td>1,169</td>\n",
       "    </tr>\n",
       "    <tr>\n",
       "      <th>4</th>\n",
       "      <td>QU9</td>\n",
       "      <td>NHS Buckinghamshire, Oxfordshire And Berkshire...</td>\n",
       "      <td>32,171</td>\n",
       "      <td>4,376</td>\n",
       "      <td>7,188</td>\n",
       "      <td>43,735</td>\n",
       "      <td>20,125</td>\n",
       "      <td>4,334</td>\n",
       "      <td>6,867</td>\n",
       "      <td>31,326</td>\n",
       "      <td>...</td>\n",
       "      <td>99.00%</td>\n",
       "      <td>95.50%</td>\n",
       "      <td>9,299</td>\n",
       "      <td>822</td>\n",
       "      <td>42</td>\n",
       "      <td>10,163</td>\n",
       "      <td>5,483</td>\n",
       "      <td>15,646</td>\n",
       "      <td>1,804</td>\n",
       "      <td>1</td>\n",
       "    </tr>\n",
       "  </tbody>\n",
       "</table>\n",
       "<p>5 rows × 26 columns</p>\n",
       "</div>"
      ],
      "text/plain": [
       "  Code                                             System  \\\n",
       "0  QOX  NHS Bath And North East Somerset, Swindon And ...   \n",
       "1  QHG  NHS Bedfordshire, Luton And Milton Keynes Inte...   \n",
       "2  QHL  NHS Birmingham And Solihull Integrated Care Board   \n",
       "3  QUY  NHS Bristol, North Somerset And South Gloucest...   \n",
       "4  QU9  NHS Buckinghamshire, Oxfordshire And Berkshire...   \n",
       "\n",
       "  Attendances (Type 1) Attendances (Type 2) Attendances (Type 3)  \\\n",
       "0               16,474                  249                8,983   \n",
       "1               21,440                    0               11,045   \n",
       "2               36,567                    0               15,427   \n",
       "3               21,228                1,949                4,289   \n",
       "4               32,171                4,376                7,188   \n",
       "\n",
       "  Attendances (Total)  Attendances in 4 hours or less (Type 1)  \\\n",
       "0               25,706                                   9,432   \n",
       "1               32,485                                   6,097   \n",
       "2               51,994                                  21,443   \n",
       "3               27,466                                  11,888   \n",
       "4               43,735                                  20,125   \n",
       "\n",
       "  Attendances in 4 hours or less (Type 2) Attendances under 4 hours (Type 3)  \\\n",
       "0                                     249                              8,855   \n",
       "1                                       0                              6,719   \n",
       "2                                       0                             15,427   \n",
       "3                                   1,894                              4,279   \n",
       "4                                   4,334                              6,867   \n",
       "\n",
       "  Attendances under 4 hours (Total)  ...  \\\n",
       "0                            18,536  ...   \n",
       "1                            12,816  ...   \n",
       "2                            36,870  ...   \n",
       "3                            18,061  ...   \n",
       "4                            31,326  ...   \n",
       "\n",
       "  Percentage in 4 hours or less (Type 2)  \\\n",
       "0                                100.00%   \n",
       "1                                      -   \n",
       "2                                      -   \n",
       "3                                 97.20%   \n",
       "4                                 99.00%   \n",
       "\n",
       "   Percentage in 4 hours or less (Type 3) Emergency Admissions via Type 1 A&E  \\\n",
       "0                                  98.60%                               5,310   \n",
       "1                                  98.90%                               6,195   \n",
       "2                                 100.00%                               9,699   \n",
       "3                                  99.80%                               6,031   \n",
       "4                                  95.50%                               9,299   \n",
       "\n",
       "  Emergency Admissions via Type 2 A&E  \\\n",
       "0                                   0   \n",
       "1                                   0   \n",
       "2                                   0   \n",
       "3                                  10   \n",
       "4                                 822   \n",
       "\n",
       "  Emergency Admissions via Type 3 and 4 A&E  \\\n",
       "0                                         8   \n",
       "1                                         0   \n",
       "2                                         0   \n",
       "3                                         0   \n",
       "4                                        42   \n",
       "\n",
       "  Total Emergency Admissions via A&E  \\\n",
       "0                              5,318   \n",
       "1                              6,195   \n",
       "2                              9,699   \n",
       "3                              6,041   \n",
       "4                             10,163   \n",
       "\n",
       "  Other Emergency admissions (i.e not via A&E) Total Emergency Admissions  \\\n",
       "0                                        3,136                      8,454   \n",
       "1                                        2,006                      8,201   \n",
       "2                                        4,654                     14,353   \n",
       "3                                        2,509                      8,550   \n",
       "4                                        5,483                     15,646   \n",
       "\n",
       "  Number of patients spending >4 hours from decision to admit to admission  \\\n",
       "0                                              2,070                         \n",
       "1                                                373                         \n",
       "2                                              4,983                         \n",
       "3                                              2,720                         \n",
       "4                                              1,804                         \n",
       "\n",
       "  Number of patients spending >12 hours from decision to admit to admission  \n",
       "0                                                158                         \n",
       "1                                                  0                         \n",
       "2                                                271                         \n",
       "3                                              1,169                         \n",
       "4                                                  1                         \n",
       "\n",
       "[5 rows x 26 columns]"
      ]
     },
     "execution_count": 3,
     "metadata": {},
     "output_type": "execute_result"
    }
   ],
   "source": [
    "#ae_data = pd.concat((pd.read_csv(file) for file in ae_files))\n",
    "ae_data = pd.concat((pd.read_csv(file) for file in sorted(glob('./data_ICB_Level/*.csv'))))\n",
    "print(ae_data.shape)\n",
    "ae_data.head()"
   ]
  },
  {
   "cell_type": "code",
   "execution_count": 4,
   "id": "6d3672e3",
   "metadata": {},
   "outputs": [
    {
     "name": "stdout",
     "output_type": "stream",
     "text": [
      "['Code', 'System', 'Attendances (Type 1)', 'Attendances (Type 2)', 'Attendances (Type 3)', 'Attendances (Total) ', 'Attendances in 4 hours or less (Type 1)', 'Attendances in 4 hours or less (Type 2)', 'Attendances under 4 hours (Type 3)', 'Attendances under 4 hours (Total)', 'Attendances over 4 hours (Type 1)', 'Attendances over 4 hours (Type 2)', 'Attendances over 4 hours (Type 3)', 'Attendances over 4 hours (Total)', 'Percentage in 4 hours or less (Total)', 'Percentage in 4 hours or less (Type 1)', 'Percentage in 4 hours or less (Type 2)', 'Percentage in 4 hours or less (Type 3)', 'Emergency Admissions via Type 1 A&E', 'Emergency Admissions via Type 2 A&E', 'Emergency Admissions via Type 3 and 4 A&E', 'Total Emergency Admissions via A&E', 'Other Emergency admissions (i.e not via A&E)', 'Total Emergency Admissions', 'Number of patients spending >4 hours from decision to admit to admission', 'Number of patients spending >12 hours from decision to admit to admission']\n"
     ]
    }
   ],
   "source": [
    "column_names = list(ae_data)\n",
    "print(column_names)"
   ]
  },
  {
   "cell_type": "code",
   "execution_count": 5,
   "id": "6d8362c2",
   "metadata": {},
   "outputs": [
    {
     "data": {
      "text/plain": [
       "Code                                                                         object\n",
       "System                                                                       object\n",
       "Attendances (Type 1)                                                         object\n",
       "Attendances (Type 2)                                                         object\n",
       "Attendances (Type 3)                                                         object\n",
       "Attendances (Total)                                                          object\n",
       "Attendances in 4 hours or less (Type 1)                                      object\n",
       "Attendances in 4 hours or less (Type 2)                                      object\n",
       "Attendances under 4 hours (Type 3)                                           object\n",
       "Attendances under 4 hours (Total)                                            object\n",
       "Attendances over 4 hours (Type 1)                                            object\n",
       "Attendances over 4 hours (Type 2)                                             int64\n",
       "Attendances over 4 hours (Type 3)                                            object\n",
       "Attendances over 4 hours (Total)                                             object\n",
       "Percentage in 4 hours or less (Total)                                        object\n",
       "Percentage in 4 hours or less (Type 1)                                       object\n",
       "Percentage in 4 hours or less (Type 2)                                       object\n",
       "Percentage in 4 hours or less (Type 3)                                       object\n",
       "Emergency Admissions via Type 1 A&E                                          object\n",
       "Emergency Admissions via Type 2 A&E                                          object\n",
       "Emergency Admissions via Type 3 and 4 A&E                                    object\n",
       "Total Emergency Admissions via A&E                                           object\n",
       "Other Emergency admissions (i.e not via A&E)                                 object\n",
       "Total Emergency Admissions                                                   object\n",
       "Number of patients spending >4 hours from decision to admit to admission     object\n",
       "Number of patients spending >12 hours from decision to admit to admission    object\n",
       "dtype: object"
      ]
     },
     "execution_count": 5,
     "metadata": {},
     "output_type": "execute_result"
    }
   ],
   "source": [
    "ae_data.dtypes"
   ]
  },
  {
   "cell_type": "markdown",
   "id": "42b593f6",
   "metadata": {},
   "source": [
    "### Checking for Missing values"
   ]
  },
  {
   "cell_type": "code",
   "execution_count": 6,
   "id": "6bd3b7af",
   "metadata": {},
   "outputs": [
    {
     "name": "stdout",
     "output_type": "stream",
     "text": [
      "Columns with missing values:\n",
      "Series([], dtype: int64)\n"
     ]
    }
   ],
   "source": [
    "z = ae_data.isnull().sum()\n",
    "print(f'Columns with missing values:\\n{z[z > 0]}')"
   ]
  },
  {
   "cell_type": "code",
   "execution_count": 7,
   "id": "be45a59d",
   "metadata": {},
   "outputs": [
    {
     "data": {
      "text/plain": [
       "0     3,136\n",
       "1     2,006\n",
       "2     4,654\n",
       "3     2,509\n",
       "4     5,483\n",
       "5     1,933\n",
       "6     5,714\n",
       "7     1,105\n",
       "8     2,311\n",
       "9    10,382\n",
       "Name: Other Emergency admissions (i.e not via A&E), dtype: object"
      ]
     },
     "execution_count": 7,
     "metadata": {},
     "output_type": "execute_result"
    }
   ],
   "source": [
    "ae_data['Other Emergency admissions (i.e not via A&E)'].head(10)"
   ]
  },
  {
   "cell_type": "markdown",
   "id": "b6e1b839",
   "metadata": {},
   "source": [
    "### Removing non-numerical characters from numerical columns"
   ]
  },
  {
   "cell_type": "code",
   "execution_count": 8,
   "id": "2c06d6f6",
   "metadata": {},
   "outputs": [],
   "source": [
    "num_cols = ['Attendances (Type 1)', 'Attendances (Type 2)', 'Attendances (Type 3)', \n",
    "            'Attendances (Total) ', 'Attendances in 4 hours or less (Type 1)', \n",
    "            'Attendances in 4 hours or less (Type 2)', 'Attendances under 4 hours (Type 3)', \n",
    "            'Attendances under 4 hours (Total)', 'Attendances over 4 hours (Type 1)', \n",
    "            'Attendances over 4 hours (Type 3)', \n",
    "            'Attendances over 4 hours (Total)', 'Percentage in 4 hours or less (Total)', \n",
    "            'Percentage in 4 hours or less (Type 1)', 'Percentage in 4 hours or less (Type 2)', \n",
    "            'Percentage in 4 hours or less (Type 3)', 'Emergency Admissions via Type 1 A&E', \n",
    "            'Emergency Admissions via Type 2 A&E', 'Emergency Admissions via Type 3 and 4 A&E', \n",
    "            'Total Emergency Admissions via A&E', 'Other Emergency admissions (i.e not via A&E)', \n",
    "            'Total Emergency Admissions', 'Number of patients spending >4 hours from decision to admit to admission', \n",
    "            'Number of patients spending >12 hours from decision to admit to admission']"
   ]
  },
  {
   "cell_type": "code",
   "execution_count": 9,
   "id": "0b960504",
   "metadata": {},
   "outputs": [],
   "source": [
    "df = ae_data.copy()\n",
    "\n",
    "for col in num_cols:\n",
    "    df[col] = df[col].str.replace(' ', '', regex = True)"
   ]
  },
  {
   "cell_type": "code",
   "execution_count": 10,
   "id": "27ed0f52",
   "metadata": {},
   "outputs": [],
   "source": [
    "for col in num_cols:\n",
    "    df[col] = df[col].str.replace('%', '', regex = True)"
   ]
  },
  {
   "cell_type": "code",
   "execution_count": 11,
   "id": "5171c568",
   "metadata": {},
   "outputs": [],
   "source": [
    "for col in num_cols:\n",
    "    df[col] = df[col].str.replace(',', '', regex = True)"
   ]
  },
  {
   "cell_type": "code",
   "execution_count": 12,
   "id": "fb0fc26d",
   "metadata": {},
   "outputs": [],
   "source": [
    "for col in num_cols:\n",
    "    df[col] = df[col].str.replace('-', '', regex = True)"
   ]
  },
  {
   "cell_type": "markdown",
   "id": "db8ade55",
   "metadata": {},
   "source": [
    "### Checking for missing values"
   ]
  },
  {
   "cell_type": "code",
   "execution_count": 13,
   "id": "b68671f9",
   "metadata": {},
   "outputs": [
    {
     "name": "stdout",
     "output_type": "stream",
     "text": [
      "Columns with missing values:\n",
      "Emergency Admissions via Type 2 A&E          840\n",
      "Emergency Admissions via Type 3 and 4 A&E    378\n",
      "dtype: int64\n"
     ]
    }
   ],
   "source": [
    "z = df.isnull().sum()\n",
    "print(f'Columns with missing values:\\n{z[z > 0]}')"
   ]
  },
  {
   "cell_type": "markdown",
   "id": "538f7f52",
   "metadata": {},
   "source": [
    "**The columns `Emergency Admissions via Type 2 A&E`and `Emergency Admissions via Type 3 and 4 A&E` are missing too many values. It would be safe to drop both columns.**"
   ]
  },
  {
   "cell_type": "code",
   "execution_count": 14,
   "id": "daa180cb",
   "metadata": {},
   "outputs": [],
   "source": [
    "drop_cols = ['Emergency Admissions via Type 2 A&E', 'Emergency Admissions via Type 3 and 4 A&E']\n",
    "df.drop(drop_cols, axis = 1, inplace = True)"
   ]
  },
  {
   "cell_type": "code",
   "execution_count": 15,
   "id": "5ef76f2f",
   "metadata": {},
   "outputs": [
    {
     "name": "stdout",
     "output_type": "stream",
     "text": [
      "Columns with missing values:\n",
      "Series([], dtype: int64)\n"
     ]
    }
   ],
   "source": [
    "z = df.isnull().sum()\n",
    "print(f'Columns with missing values:\\n{z[z > 0]}')"
   ]
  },
  {
   "cell_type": "code",
   "execution_count": 16,
   "id": "e87e59ef",
   "metadata": {},
   "outputs": [
    {
     "data": {
      "text/plain": [
       "Code                                                                         object\n",
       "System                                                                       object\n",
       "Attendances (Type 1)                                                         object\n",
       "Attendances (Type 2)                                                         object\n",
       "Attendances (Type 3)                                                         object\n",
       "Attendances (Total)                                                          object\n",
       "Attendances in 4 hours or less (Type 1)                                      object\n",
       "Attendances in 4 hours or less (Type 2)                                      object\n",
       "Attendances under 4 hours (Type 3)                                           object\n",
       "Attendances under 4 hours (Total)                                            object\n",
       "Attendances over 4 hours (Type 1)                                            object\n",
       "Attendances over 4 hours (Type 2)                                             int64\n",
       "Attendances over 4 hours (Type 3)                                            object\n",
       "Attendances over 4 hours (Total)                                             object\n",
       "Percentage in 4 hours or less (Total)                                        object\n",
       "Percentage in 4 hours or less (Type 1)                                       object\n",
       "Percentage in 4 hours or less (Type 2)                                       object\n",
       "Percentage in 4 hours or less (Type 3)                                       object\n",
       "Emergency Admissions via Type 1 A&E                                          object\n",
       "Total Emergency Admissions via A&E                                           object\n",
       "Other Emergency admissions (i.e not via A&E)                                 object\n",
       "Total Emergency Admissions                                                   object\n",
       "Number of patients spending >4 hours from decision to admit to admission     object\n",
       "Number of patients spending >12 hours from decision to admit to admission    object\n",
       "dtype: object"
      ]
     },
     "execution_count": 16,
     "metadata": {},
     "output_type": "execute_result"
    }
   ],
   "source": [
    "df.dtypes"
   ]
  },
  {
   "cell_type": "code",
   "execution_count": 17,
   "id": "a39e52de",
   "metadata": {},
   "outputs": [
    {
     "data": {
      "text/plain": [
       "['Code',\n",
       " 'System',\n",
       " 'Attendances (Type 1)',\n",
       " 'Attendances (Type 2)',\n",
       " 'Attendances (Type 3)',\n",
       " 'Attendances (Total) ',\n",
       " 'Attendances in 4 hours or less (Type 1)',\n",
       " 'Attendances in 4 hours or less (Type 2)',\n",
       " 'Attendances under 4 hours (Type 3)',\n",
       " 'Attendances under 4 hours (Total)',\n",
       " 'Attendances over 4 hours (Type 1)',\n",
       " 'Attendances over 4 hours (Type 2)',\n",
       " 'Attendances over 4 hours (Type 3)',\n",
       " 'Attendances over 4 hours (Total)',\n",
       " 'Percentage in 4 hours or less (Total)',\n",
       " 'Percentage in 4 hours or less (Type 1)',\n",
       " 'Percentage in 4 hours or less (Type 2)',\n",
       " 'Percentage in 4 hours or less (Type 3)',\n",
       " 'Emergency Admissions via Type 1 A&E',\n",
       " 'Total Emergency Admissions via A&E',\n",
       " 'Other Emergency admissions (i.e not via A&E)',\n",
       " 'Total Emergency Admissions',\n",
       " 'Number of patients spending >4 hours from decision to admit to admission',\n",
       " 'Number of patients spending >12 hours from decision to admit to admission']"
      ]
     },
     "execution_count": 17,
     "metadata": {},
     "output_type": "execute_result"
    }
   ],
   "source": [
    "cols = list(df)\n",
    "cols"
   ]
  },
  {
   "cell_type": "code",
   "execution_count": 18,
   "id": "73683377",
   "metadata": {},
   "outputs": [],
   "source": [
    "num_col2 = ['Percentage in 4 hours or less (Total)', \n",
    "            'Percentage in 4 hours or less (Type 1)', \n",
    "            'Percentage in 4 hours or less (Type 2)', \n",
    "            'Percentage in 4 hours or less (Type 3)', \n",
    "            'Emergency Admissions via Type 1 A&E', \n",
    "            'Total Emergency Admissions via A&E', \n",
    "            'Other Emergency admissions (i.e not via A&E)', \n",
    "            'Total Emergency Admissions', \n",
    "            'Number of patients spending >4 hours from decision to admit to admission', \n",
    "            'Number of patients spending >12 hours from decision to admit to admission']"
   ]
  },
  {
   "cell_type": "code",
   "execution_count": 19,
   "id": "66295c31",
   "metadata": {},
   "outputs": [
    {
     "data": {
      "text/plain": [
       "Code                                                                         object\n",
       "System                                                                       object\n",
       "Attendances (Type 1)                                                         object\n",
       "Attendances (Type 2)                                                         object\n",
       "Attendances (Type 3)                                                         object\n",
       "Attendances (Total)                                                          object\n",
       "Attendances in 4 hours or less (Type 1)                                      object\n",
       "Attendances in 4 hours or less (Type 2)                                      object\n",
       "Attendances under 4 hours (Type 3)                                           object\n",
       "Attendances under 4 hours (Total)                                            object\n",
       "Attendances over 4 hours (Type 1)                                            object\n",
       "Attendances over 4 hours (Type 2)                                             int64\n",
       "Attendances over 4 hours (Type 3)                                            object\n",
       "Attendances over 4 hours (Total)                                             object\n",
       "Percentage in 4 hours or less (Total)                                        object\n",
       "Percentage in 4 hours or less (Type 1)                                       object\n",
       "Percentage in 4 hours or less (Type 2)                                       object\n",
       "Percentage in 4 hours or less (Type 3)                                       object\n",
       "Emergency Admissions via Type 1 A&E                                          object\n",
       "Total Emergency Admissions via A&E                                           object\n",
       "Other Emergency admissions (i.e not via A&E)                                 object\n",
       "Total Emergency Admissions                                                   object\n",
       "Number of patients spending >4 hours from decision to admit to admission     object\n",
       "Number of patients spending >12 hours from decision to admit to admission    object\n",
       "dtype: object"
      ]
     },
     "execution_count": 19,
     "metadata": {},
     "output_type": "execute_result"
    }
   ],
   "source": [
    "df.dtypes"
   ]
  },
  {
   "cell_type": "code",
   "execution_count": 20,
   "id": "00596d7d",
   "metadata": {},
   "outputs": [
    {
     "name": "stdout",
     "output_type": "stream",
     "text": [
      "Columns with missing values:\n",
      "Series([], dtype: int64)\n"
     ]
    }
   ],
   "source": [
    "z = df.isnull().sum()\n",
    "print(f'Columns with missing values:\\n{z[z > 0]}')"
   ]
  },
  {
   "cell_type": "code",
   "execution_count": 21,
   "id": "31105d0b",
   "metadata": {},
   "outputs": [
    {
     "data": {
      "text/html": [
       "<div>\n",
       "<style scoped>\n",
       "    .dataframe tbody tr th:only-of-type {\n",
       "        vertical-align: middle;\n",
       "    }\n",
       "\n",
       "    .dataframe tbody tr th {\n",
       "        vertical-align: top;\n",
       "    }\n",
       "\n",
       "    .dataframe thead th {\n",
       "        text-align: right;\n",
       "    }\n",
       "</style>\n",
       "<table border=\"1\" class=\"dataframe\">\n",
       "  <thead>\n",
       "    <tr style=\"text-align: right;\">\n",
       "      <th></th>\n",
       "      <th>Percentage in 4 hours or less (Total)</th>\n",
       "      <th>Percentage in 4 hours or less (Type 1)</th>\n",
       "      <th>Percentage in 4 hours or less (Type 2)</th>\n",
       "      <th>Percentage in 4 hours or less (Type 3)</th>\n",
       "      <th>Emergency Admissions via Type 1 A&amp;E</th>\n",
       "      <th>Total Emergency Admissions via A&amp;E</th>\n",
       "      <th>Other Emergency admissions (i.e not via A&amp;E)</th>\n",
       "      <th>Total Emergency Admissions</th>\n",
       "      <th>Number of patients spending &gt;4 hours from decision to admit to admission</th>\n",
       "      <th>Number of patients spending &gt;12 hours from decision to admit to admission</th>\n",
       "    </tr>\n",
       "  </thead>\n",
       "  <tbody>\n",
       "    <tr>\n",
       "      <th>0</th>\n",
       "      <td>72.10</td>\n",
       "      <td>57.30</td>\n",
       "      <td>100.00</td>\n",
       "      <td>98.60</td>\n",
       "      <td>5310</td>\n",
       "      <td>5318</td>\n",
       "      <td>3136</td>\n",
       "      <td>8454</td>\n",
       "      <td>2070</td>\n",
       "      <td>158</td>\n",
       "    </tr>\n",
       "    <tr>\n",
       "      <th>1</th>\n",
       "      <td>85.90</td>\n",
       "      <td>75.00</td>\n",
       "      <td></td>\n",
       "      <td>98.90</td>\n",
       "      <td>6195</td>\n",
       "      <td>6195</td>\n",
       "      <td>2006</td>\n",
       "      <td>8201</td>\n",
       "      <td>373</td>\n",
       "      <td>0</td>\n",
       "    </tr>\n",
       "    <tr>\n",
       "      <th>2</th>\n",
       "      <td>70.90</td>\n",
       "      <td>58.60</td>\n",
       "      <td></td>\n",
       "      <td>100.00</td>\n",
       "      <td>9699</td>\n",
       "      <td>9699</td>\n",
       "      <td>4654</td>\n",
       "      <td>14353</td>\n",
       "      <td>4983</td>\n",
       "      <td>271</td>\n",
       "    </tr>\n",
       "    <tr>\n",
       "      <th>3</th>\n",
       "      <td>65.80</td>\n",
       "      <td>56.00</td>\n",
       "      <td>97.20</td>\n",
       "      <td>99.80</td>\n",
       "      <td>6031</td>\n",
       "      <td>6041</td>\n",
       "      <td>2509</td>\n",
       "      <td>8550</td>\n",
       "      <td>2720</td>\n",
       "      <td>1169</td>\n",
       "    </tr>\n",
       "    <tr>\n",
       "      <th>4</th>\n",
       "      <td>71.60</td>\n",
       "      <td>62.60</td>\n",
       "      <td>99.00</td>\n",
       "      <td>95.50</td>\n",
       "      <td>9299</td>\n",
       "      <td>10163</td>\n",
       "      <td>5483</td>\n",
       "      <td>15646</td>\n",
       "      <td>1804</td>\n",
       "      <td>1</td>\n",
       "    </tr>\n",
       "  </tbody>\n",
       "</table>\n",
       "</div>"
      ],
      "text/plain": [
       "  Percentage in 4 hours or less (Total)  \\\n",
       "0                                 72.10   \n",
       "1                                 85.90   \n",
       "2                                 70.90   \n",
       "3                                 65.80   \n",
       "4                                 71.60   \n",
       "\n",
       "  Percentage in 4 hours or less (Type 1)  \\\n",
       "0                                  57.30   \n",
       "1                                  75.00   \n",
       "2                                  58.60   \n",
       "3                                  56.00   \n",
       "4                                  62.60   \n",
       "\n",
       "  Percentage in 4 hours or less (Type 2)  \\\n",
       "0                                 100.00   \n",
       "1                                          \n",
       "2                                          \n",
       "3                                  97.20   \n",
       "4                                  99.00   \n",
       "\n",
       "  Percentage in 4 hours or less (Type 3) Emergency Admissions via Type 1 A&E  \\\n",
       "0                                  98.60                                5310   \n",
       "1                                  98.90                                6195   \n",
       "2                                 100.00                                9699   \n",
       "3                                  99.80                                6031   \n",
       "4                                  95.50                                9299   \n",
       "\n",
       "  Total Emergency Admissions via A&E  \\\n",
       "0                               5318   \n",
       "1                               6195   \n",
       "2                               9699   \n",
       "3                               6041   \n",
       "4                              10163   \n",
       "\n",
       "  Other Emergency admissions (i.e not via A&E) Total Emergency Admissions  \\\n",
       "0                                         3136                       8454   \n",
       "1                                         2006                       8201   \n",
       "2                                         4654                      14353   \n",
       "3                                         2509                       8550   \n",
       "4                                         5483                      15646   \n",
       "\n",
       "  Number of patients spending >4 hours from decision to admit to admission  \\\n",
       "0                                               2070                         \n",
       "1                                                373                         \n",
       "2                                               4983                         \n",
       "3                                               2720                         \n",
       "4                                               1804                         \n",
       "\n",
       "  Number of patients spending >12 hours from decision to admit to admission  \n",
       "0                                                158                         \n",
       "1                                                  0                         \n",
       "2                                                271                         \n",
       "3                                               1169                         \n",
       "4                                                  1                         "
      ]
     },
     "execution_count": 21,
     "metadata": {},
     "output_type": "execute_result"
    }
   ],
   "source": [
    "df.loc[:, num_col2].head()"
   ]
  },
  {
   "cell_type": "markdown",
   "id": "e5c98a33",
   "metadata": {},
   "source": [
    "### Helper Function to clean data"
   ]
  },
  {
   "cell_type": "code",
   "execution_count": 22,
   "id": "975ae305",
   "metadata": {},
   "outputs": [],
   "source": [
    "def clean_series(d):\n",
    "    d = str(d)\n",
    "    if d.isnumeric():\n",
    "        return float(d)\n",
    "    else:\n",
    "        return 0"
   ]
  },
  {
   "cell_type": "code",
   "execution_count": 23,
   "id": "673d8b2e",
   "metadata": {},
   "outputs": [],
   "source": [
    "for col in num_col2:\n",
    "    df[col] = df[col].apply(clean_series)"
   ]
  },
  {
   "cell_type": "code",
   "execution_count": 24,
   "id": "2873d27d",
   "metadata": {},
   "outputs": [
    {
     "data": {
      "text/plain": [
       "Code                                                                          object\n",
       "System                                                                        object\n",
       "Attendances (Type 1)                                                          object\n",
       "Attendances (Type 2)                                                          object\n",
       "Attendances (Type 3)                                                          object\n",
       "Attendances (Total)                                                           object\n",
       "Attendances in 4 hours or less (Type 1)                                       object\n",
       "Attendances in 4 hours or less (Type 2)                                       object\n",
       "Attendances under 4 hours (Type 3)                                            object\n",
       "Attendances under 4 hours (Total)                                             object\n",
       "Attendances over 4 hours (Type 1)                                             object\n",
       "Attendances over 4 hours (Type 2)                                              int64\n",
       "Attendances over 4 hours (Type 3)                                             object\n",
       "Attendances over 4 hours (Total)                                              object\n",
       "Percentage in 4 hours or less (Total)                                          int64\n",
       "Percentage in 4 hours or less (Type 1)                                         int64\n",
       "Percentage in 4 hours or less (Type 2)                                         int64\n",
       "Percentage in 4 hours or less (Type 3)                                         int64\n",
       "Emergency Admissions via Type 1 A&E                                          float64\n",
       "Total Emergency Admissions via A&E                                           float64\n",
       "Other Emergency admissions (i.e not via A&E)                                 float64\n",
       "Total Emergency Admissions                                                   float64\n",
       "Number of patients spending >4 hours from decision to admit to admission     float64\n",
       "Number of patients spending >12 hours from decision to admit to admission    float64\n",
       "dtype: object"
      ]
     },
     "execution_count": 24,
     "metadata": {},
     "output_type": "execute_result"
    }
   ],
   "source": [
    "df.dtypes"
   ]
  },
  {
   "cell_type": "code",
   "execution_count": 25,
   "id": "f99124ee",
   "metadata": {},
   "outputs": [
    {
     "data": {
      "text/html": [
       "<div>\n",
       "<style scoped>\n",
       "    .dataframe tbody tr th:only-of-type {\n",
       "        vertical-align: middle;\n",
       "    }\n",
       "\n",
       "    .dataframe tbody tr th {\n",
       "        vertical-align: top;\n",
       "    }\n",
       "\n",
       "    .dataframe thead th {\n",
       "        text-align: right;\n",
       "    }\n",
       "</style>\n",
       "<table border=\"1\" class=\"dataframe\">\n",
       "  <thead>\n",
       "    <tr style=\"text-align: right;\">\n",
       "      <th></th>\n",
       "      <th>Code</th>\n",
       "      <th>System</th>\n",
       "      <th>Attendances (Type 1)</th>\n",
       "      <th>Attendances (Type 2)</th>\n",
       "      <th>Attendances (Type 3)</th>\n",
       "      <th>Attendances (Total)</th>\n",
       "      <th>Attendances in 4 hours or less (Type 1)</th>\n",
       "      <th>Attendances in 4 hours or less (Type 2)</th>\n",
       "      <th>Attendances under 4 hours (Type 3)</th>\n",
       "      <th>Attendances under 4 hours (Total)</th>\n",
       "      <th>...</th>\n",
       "      <th>Percentage in 4 hours or less (Total)</th>\n",
       "      <th>Percentage in 4 hours or less (Type 1)</th>\n",
       "      <th>Percentage in 4 hours or less (Type 2)</th>\n",
       "      <th>Percentage in 4 hours or less (Type 3)</th>\n",
       "      <th>Emergency Admissions via Type 1 A&amp;E</th>\n",
       "      <th>Total Emergency Admissions via A&amp;E</th>\n",
       "      <th>Other Emergency admissions (i.e not via A&amp;E)</th>\n",
       "      <th>Total Emergency Admissions</th>\n",
       "      <th>Number of patients spending &gt;4 hours from decision to admit to admission</th>\n",
       "      <th>Number of patients spending &gt;12 hours from decision to admit to admission</th>\n",
       "    </tr>\n",
       "  </thead>\n",
       "  <tbody>\n",
       "    <tr>\n",
       "      <th>0</th>\n",
       "      <td>QOX</td>\n",
       "      <td>NHS Bath And North East Somerset, Swindon And ...</td>\n",
       "      <td>16474</td>\n",
       "      <td>249</td>\n",
       "      <td>8983</td>\n",
       "      <td>25706</td>\n",
       "      <td>9432</td>\n",
       "      <td>249</td>\n",
       "      <td>8855</td>\n",
       "      <td>18536</td>\n",
       "      <td>...</td>\n",
       "      <td>0</td>\n",
       "      <td>0</td>\n",
       "      <td>0</td>\n",
       "      <td>0</td>\n",
       "      <td>5310.0</td>\n",
       "      <td>5318.0</td>\n",
       "      <td>3136.0</td>\n",
       "      <td>8454.0</td>\n",
       "      <td>2070.0</td>\n",
       "      <td>158.0</td>\n",
       "    </tr>\n",
       "    <tr>\n",
       "      <th>1</th>\n",
       "      <td>QHG</td>\n",
       "      <td>NHS Bedfordshire, Luton And Milton Keynes Inte...</td>\n",
       "      <td>21440</td>\n",
       "      <td>0</td>\n",
       "      <td>11045</td>\n",
       "      <td>32485</td>\n",
       "      <td>6097</td>\n",
       "      <td>0</td>\n",
       "      <td>6719</td>\n",
       "      <td>12816</td>\n",
       "      <td>...</td>\n",
       "      <td>0</td>\n",
       "      <td>0</td>\n",
       "      <td>0</td>\n",
       "      <td>0</td>\n",
       "      <td>6195.0</td>\n",
       "      <td>6195.0</td>\n",
       "      <td>2006.0</td>\n",
       "      <td>8201.0</td>\n",
       "      <td>373.0</td>\n",
       "      <td>0.0</td>\n",
       "    </tr>\n",
       "    <tr>\n",
       "      <th>2</th>\n",
       "      <td>QHL</td>\n",
       "      <td>NHS Birmingham And Solihull Integrated Care Board</td>\n",
       "      <td>36567</td>\n",
       "      <td>0</td>\n",
       "      <td>15427</td>\n",
       "      <td>51994</td>\n",
       "      <td>21443</td>\n",
       "      <td>0</td>\n",
       "      <td>15427</td>\n",
       "      <td>36870</td>\n",
       "      <td>...</td>\n",
       "      <td>0</td>\n",
       "      <td>0</td>\n",
       "      <td>0</td>\n",
       "      <td>0</td>\n",
       "      <td>9699.0</td>\n",
       "      <td>9699.0</td>\n",
       "      <td>4654.0</td>\n",
       "      <td>14353.0</td>\n",
       "      <td>4983.0</td>\n",
       "      <td>271.0</td>\n",
       "    </tr>\n",
       "    <tr>\n",
       "      <th>3</th>\n",
       "      <td>QUY</td>\n",
       "      <td>NHS Bristol, North Somerset And South Gloucest...</td>\n",
       "      <td>21228</td>\n",
       "      <td>1949</td>\n",
       "      <td>4289</td>\n",
       "      <td>27466</td>\n",
       "      <td>11888</td>\n",
       "      <td>1894</td>\n",
       "      <td>4279</td>\n",
       "      <td>18061</td>\n",
       "      <td>...</td>\n",
       "      <td>0</td>\n",
       "      <td>0</td>\n",
       "      <td>0</td>\n",
       "      <td>0</td>\n",
       "      <td>6031.0</td>\n",
       "      <td>6041.0</td>\n",
       "      <td>2509.0</td>\n",
       "      <td>8550.0</td>\n",
       "      <td>2720.0</td>\n",
       "      <td>1169.0</td>\n",
       "    </tr>\n",
       "    <tr>\n",
       "      <th>4</th>\n",
       "      <td>QU9</td>\n",
       "      <td>NHS Buckinghamshire, Oxfordshire And Berkshire...</td>\n",
       "      <td>32171</td>\n",
       "      <td>4376</td>\n",
       "      <td>7188</td>\n",
       "      <td>43735</td>\n",
       "      <td>20125</td>\n",
       "      <td>4334</td>\n",
       "      <td>6867</td>\n",
       "      <td>31326</td>\n",
       "      <td>...</td>\n",
       "      <td>0</td>\n",
       "      <td>0</td>\n",
       "      <td>0</td>\n",
       "      <td>0</td>\n",
       "      <td>9299.0</td>\n",
       "      <td>10163.0</td>\n",
       "      <td>5483.0</td>\n",
       "      <td>15646.0</td>\n",
       "      <td>1804.0</td>\n",
       "      <td>1.0</td>\n",
       "    </tr>\n",
       "  </tbody>\n",
       "</table>\n",
       "<p>5 rows × 24 columns</p>\n",
       "</div>"
      ],
      "text/plain": [
       "  Code                                             System  \\\n",
       "0  QOX  NHS Bath And North East Somerset, Swindon And ...   \n",
       "1  QHG  NHS Bedfordshire, Luton And Milton Keynes Inte...   \n",
       "2  QHL  NHS Birmingham And Solihull Integrated Care Board   \n",
       "3  QUY  NHS Bristol, North Somerset And South Gloucest...   \n",
       "4  QU9  NHS Buckinghamshire, Oxfordshire And Berkshire...   \n",
       "\n",
       "  Attendances (Type 1) Attendances (Type 2) Attendances (Type 3)  \\\n",
       "0                16474                  249                 8983   \n",
       "1                21440                    0                11045   \n",
       "2                36567                    0                15427   \n",
       "3                21228                 1949                 4289   \n",
       "4                32171                 4376                 7188   \n",
       "\n",
       "  Attendances (Total)  Attendances in 4 hours or less (Type 1)  \\\n",
       "0                25706                                    9432   \n",
       "1                32485                                    6097   \n",
       "2                51994                                   21443   \n",
       "3                27466                                   11888   \n",
       "4                43735                                   20125   \n",
       "\n",
       "  Attendances in 4 hours or less (Type 2) Attendances under 4 hours (Type 3)  \\\n",
       "0                                     249                               8855   \n",
       "1                                       0                               6719   \n",
       "2                                       0                              15427   \n",
       "3                                    1894                               4279   \n",
       "4                                    4334                               6867   \n",
       "\n",
       "  Attendances under 4 hours (Total)  ...  \\\n",
       "0                             18536  ...   \n",
       "1                             12816  ...   \n",
       "2                             36870  ...   \n",
       "3                             18061  ...   \n",
       "4                             31326  ...   \n",
       "\n",
       "  Percentage in 4 hours or less (Total)  \\\n",
       "0                                     0   \n",
       "1                                     0   \n",
       "2                                     0   \n",
       "3                                     0   \n",
       "4                                     0   \n",
       "\n",
       "   Percentage in 4 hours or less (Type 1)  \\\n",
       "0                                       0   \n",
       "1                                       0   \n",
       "2                                       0   \n",
       "3                                       0   \n",
       "4                                       0   \n",
       "\n",
       "  Percentage in 4 hours or less (Type 2)  \\\n",
       "0                                      0   \n",
       "1                                      0   \n",
       "2                                      0   \n",
       "3                                      0   \n",
       "4                                      0   \n",
       "\n",
       "  Percentage in 4 hours or less (Type 3)  Emergency Admissions via Type 1 A&E  \\\n",
       "0                                      0                               5310.0   \n",
       "1                                      0                               6195.0   \n",
       "2                                      0                               9699.0   \n",
       "3                                      0                               6031.0   \n",
       "4                                      0                               9299.0   \n",
       "\n",
       "   Total Emergency Admissions via A&E  \\\n",
       "0                              5318.0   \n",
       "1                              6195.0   \n",
       "2                              9699.0   \n",
       "3                              6041.0   \n",
       "4                             10163.0   \n",
       "\n",
       "   Other Emergency admissions (i.e not via A&E)  Total Emergency Admissions  \\\n",
       "0                                        3136.0                      8454.0   \n",
       "1                                        2006.0                      8201.0   \n",
       "2                                        4654.0                     14353.0   \n",
       "3                                        2509.0                      8550.0   \n",
       "4                                        5483.0                     15646.0   \n",
       "\n",
       "   Number of patients spending >4 hours from decision to admit to admission  \\\n",
       "0                                             2070.0                          \n",
       "1                                              373.0                          \n",
       "2                                             4983.0                          \n",
       "3                                             2720.0                          \n",
       "4                                             1804.0                          \n",
       "\n",
       "   Number of patients spending >12 hours from decision to admit to admission  \n",
       "0                                              158.0                          \n",
       "1                                                0.0                          \n",
       "2                                              271.0                          \n",
       "3                                             1169.0                          \n",
       "4                                                1.0                          \n",
       "\n",
       "[5 rows x 24 columns]"
      ]
     },
     "execution_count": 25,
     "metadata": {},
     "output_type": "execute_result"
    }
   ],
   "source": [
    "df.head()"
   ]
  },
  {
   "cell_type": "code",
   "execution_count": 26,
   "id": "29b3ff08",
   "metadata": {},
   "outputs": [
    {
     "name": "stdout",
     "output_type": "stream",
     "text": [
      "Columns with missing values:\n",
      "Series([], dtype: int64)\n"
     ]
    }
   ],
   "source": [
    "z = df.isnull().sum()\n",
    "print(f'Columns with missing values:\\n{z[z > 0]}')"
   ]
  },
  {
   "cell_type": "markdown",
   "id": "cc433ebe",
   "metadata": {},
   "source": [
    "#### The headline performance measure for A&E \n",
    "* This is the **proportion** of A&E attendances that are admitted, transferred or discharged from A&E **`within 4-hours`** of arrival. \n",
    "\n",
    "* As an interim target, NHSE is targeting a national average of **76% 4-hour performance** in March 2024. \n",
    "\n",
    "\n",
    "**The Secretary of State for Health has asked me to analyse NHS data to determine what impact (if \n",
    "any) the `tiering system has had on the performance of the ICBs receiving tier three support`.**"
   ]
  },
  {
   "cell_type": "markdown",
   "id": "95407b54",
   "metadata": {},
   "source": [
    "### Percentages in 4 hours or less (Total)"
   ]
  },
  {
   "cell_type": "code",
   "execution_count": 27,
   "id": "f393e3a3",
   "metadata": {},
   "outputs": [],
   "source": [
    "cols_pct =  ['Percentage in 4 hours or less (Total)',\n",
    "             'Percentage in 4 hours or less (Type 1)',\n",
    "             'Percentage in 4 hours or less (Type 2)',\n",
    "             'Percentage in 4 hours or less (Type 3)']  \n",
    "\n",
    "for col in cols_pct:\n",
    "    df[col] = ae_data[col].str.strip().replace('\\D', '', regex = True).replace(' ', '').apply(clean_series)"
   ]
  },
  {
   "cell_type": "code",
   "execution_count": 28,
   "id": "db659921",
   "metadata": {},
   "outputs": [],
   "source": [
    "for col in cols_pct:\n",
    "    df[col] = df[col] / 100"
   ]
  },
  {
   "cell_type": "code",
   "execution_count": 29,
   "id": "9a5d2128",
   "metadata": {},
   "outputs": [
    {
     "data": {
      "text/html": [
       "<div>\n",
       "<style scoped>\n",
       "    .dataframe tbody tr th:only-of-type {\n",
       "        vertical-align: middle;\n",
       "    }\n",
       "\n",
       "    .dataframe tbody tr th {\n",
       "        vertical-align: top;\n",
       "    }\n",
       "\n",
       "    .dataframe thead th {\n",
       "        text-align: right;\n",
       "    }\n",
       "</style>\n",
       "<table border=\"1\" class=\"dataframe\">\n",
       "  <thead>\n",
       "    <tr style=\"text-align: right;\">\n",
       "      <th></th>\n",
       "      <th>Code</th>\n",
       "      <th>System</th>\n",
       "      <th>Attendances (Type 1)</th>\n",
       "      <th>Attendances (Type 2)</th>\n",
       "      <th>Attendances (Type 3)</th>\n",
       "      <th>Attendances (Total)</th>\n",
       "      <th>Attendances in 4 hours or less (Type 1)</th>\n",
       "      <th>Attendances in 4 hours or less (Type 2)</th>\n",
       "      <th>Attendances under 4 hours (Type 3)</th>\n",
       "      <th>Attendances under 4 hours (Total)</th>\n",
       "      <th>...</th>\n",
       "      <th>Percentage in 4 hours or less (Total)</th>\n",
       "      <th>Percentage in 4 hours or less (Type 1)</th>\n",
       "      <th>Percentage in 4 hours or less (Type 2)</th>\n",
       "      <th>Percentage in 4 hours or less (Type 3)</th>\n",
       "      <th>Emergency Admissions via Type 1 A&amp;E</th>\n",
       "      <th>Total Emergency Admissions via A&amp;E</th>\n",
       "      <th>Other Emergency admissions (i.e not via A&amp;E)</th>\n",
       "      <th>Total Emergency Admissions</th>\n",
       "      <th>Number of patients spending &gt;4 hours from decision to admit to admission</th>\n",
       "      <th>Number of patients spending &gt;12 hours from decision to admit to admission</th>\n",
       "    </tr>\n",
       "  </thead>\n",
       "  <tbody>\n",
       "    <tr>\n",
       "      <th>0</th>\n",
       "      <td>QOX</td>\n",
       "      <td>NHS Bath And North East Somerset, Swindon And ...</td>\n",
       "      <td>16474</td>\n",
       "      <td>249</td>\n",
       "      <td>8983</td>\n",
       "      <td>25706</td>\n",
       "      <td>9432</td>\n",
       "      <td>249</td>\n",
       "      <td>8855</td>\n",
       "      <td>18536</td>\n",
       "      <td>...</td>\n",
       "      <td>72.1</td>\n",
       "      <td>57.3</td>\n",
       "      <td>100.0</td>\n",
       "      <td>98.6</td>\n",
       "      <td>5310.0</td>\n",
       "      <td>5318.0</td>\n",
       "      <td>3136.0</td>\n",
       "      <td>8454.0</td>\n",
       "      <td>2070.0</td>\n",
       "      <td>158.0</td>\n",
       "    </tr>\n",
       "    <tr>\n",
       "      <th>1</th>\n",
       "      <td>QHG</td>\n",
       "      <td>NHS Bedfordshire, Luton And Milton Keynes Inte...</td>\n",
       "      <td>21440</td>\n",
       "      <td>0</td>\n",
       "      <td>11045</td>\n",
       "      <td>32485</td>\n",
       "      <td>6097</td>\n",
       "      <td>0</td>\n",
       "      <td>6719</td>\n",
       "      <td>12816</td>\n",
       "      <td>...</td>\n",
       "      <td>85.9</td>\n",
       "      <td>75.0</td>\n",
       "      <td>0.0</td>\n",
       "      <td>98.9</td>\n",
       "      <td>6195.0</td>\n",
       "      <td>6195.0</td>\n",
       "      <td>2006.0</td>\n",
       "      <td>8201.0</td>\n",
       "      <td>373.0</td>\n",
       "      <td>0.0</td>\n",
       "    </tr>\n",
       "    <tr>\n",
       "      <th>2</th>\n",
       "      <td>QHL</td>\n",
       "      <td>NHS Birmingham And Solihull Integrated Care Board</td>\n",
       "      <td>36567</td>\n",
       "      <td>0</td>\n",
       "      <td>15427</td>\n",
       "      <td>51994</td>\n",
       "      <td>21443</td>\n",
       "      <td>0</td>\n",
       "      <td>15427</td>\n",
       "      <td>36870</td>\n",
       "      <td>...</td>\n",
       "      <td>70.9</td>\n",
       "      <td>58.6</td>\n",
       "      <td>0.0</td>\n",
       "      <td>100.0</td>\n",
       "      <td>9699.0</td>\n",
       "      <td>9699.0</td>\n",
       "      <td>4654.0</td>\n",
       "      <td>14353.0</td>\n",
       "      <td>4983.0</td>\n",
       "      <td>271.0</td>\n",
       "    </tr>\n",
       "    <tr>\n",
       "      <th>3</th>\n",
       "      <td>QUY</td>\n",
       "      <td>NHS Bristol, North Somerset And South Gloucest...</td>\n",
       "      <td>21228</td>\n",
       "      <td>1949</td>\n",
       "      <td>4289</td>\n",
       "      <td>27466</td>\n",
       "      <td>11888</td>\n",
       "      <td>1894</td>\n",
       "      <td>4279</td>\n",
       "      <td>18061</td>\n",
       "      <td>...</td>\n",
       "      <td>65.8</td>\n",
       "      <td>56.0</td>\n",
       "      <td>97.2</td>\n",
       "      <td>99.8</td>\n",
       "      <td>6031.0</td>\n",
       "      <td>6041.0</td>\n",
       "      <td>2509.0</td>\n",
       "      <td>8550.0</td>\n",
       "      <td>2720.0</td>\n",
       "      <td>1169.0</td>\n",
       "    </tr>\n",
       "    <tr>\n",
       "      <th>4</th>\n",
       "      <td>QU9</td>\n",
       "      <td>NHS Buckinghamshire, Oxfordshire And Berkshire...</td>\n",
       "      <td>32171</td>\n",
       "      <td>4376</td>\n",
       "      <td>7188</td>\n",
       "      <td>43735</td>\n",
       "      <td>20125</td>\n",
       "      <td>4334</td>\n",
       "      <td>6867</td>\n",
       "      <td>31326</td>\n",
       "      <td>...</td>\n",
       "      <td>71.6</td>\n",
       "      <td>62.6</td>\n",
       "      <td>99.0</td>\n",
       "      <td>95.5</td>\n",
       "      <td>9299.0</td>\n",
       "      <td>10163.0</td>\n",
       "      <td>5483.0</td>\n",
       "      <td>15646.0</td>\n",
       "      <td>1804.0</td>\n",
       "      <td>1.0</td>\n",
       "    </tr>\n",
       "  </tbody>\n",
       "</table>\n",
       "<p>5 rows × 24 columns</p>\n",
       "</div>"
      ],
      "text/plain": [
       "  Code                                             System  \\\n",
       "0  QOX  NHS Bath And North East Somerset, Swindon And ...   \n",
       "1  QHG  NHS Bedfordshire, Luton And Milton Keynes Inte...   \n",
       "2  QHL  NHS Birmingham And Solihull Integrated Care Board   \n",
       "3  QUY  NHS Bristol, North Somerset And South Gloucest...   \n",
       "4  QU9  NHS Buckinghamshire, Oxfordshire And Berkshire...   \n",
       "\n",
       "  Attendances (Type 1) Attendances (Type 2) Attendances (Type 3)  \\\n",
       "0                16474                  249                 8983   \n",
       "1                21440                    0                11045   \n",
       "2                36567                    0                15427   \n",
       "3                21228                 1949                 4289   \n",
       "4                32171                 4376                 7188   \n",
       "\n",
       "  Attendances (Total)  Attendances in 4 hours or less (Type 1)  \\\n",
       "0                25706                                    9432   \n",
       "1                32485                                    6097   \n",
       "2                51994                                   21443   \n",
       "3                27466                                   11888   \n",
       "4                43735                                   20125   \n",
       "\n",
       "  Attendances in 4 hours or less (Type 2) Attendances under 4 hours (Type 3)  \\\n",
       "0                                     249                               8855   \n",
       "1                                       0                               6719   \n",
       "2                                       0                              15427   \n",
       "3                                    1894                               4279   \n",
       "4                                    4334                               6867   \n",
       "\n",
       "  Attendances under 4 hours (Total)  ...  \\\n",
       "0                             18536  ...   \n",
       "1                             12816  ...   \n",
       "2                             36870  ...   \n",
       "3                             18061  ...   \n",
       "4                             31326  ...   \n",
       "\n",
       "  Percentage in 4 hours or less (Total)  \\\n",
       "0                                  72.1   \n",
       "1                                  85.9   \n",
       "2                                  70.9   \n",
       "3                                  65.8   \n",
       "4                                  71.6   \n",
       "\n",
       "   Percentage in 4 hours or less (Type 1)  \\\n",
       "0                                    57.3   \n",
       "1                                    75.0   \n",
       "2                                    58.6   \n",
       "3                                    56.0   \n",
       "4                                    62.6   \n",
       "\n",
       "  Percentage in 4 hours or less (Type 2)  \\\n",
       "0                                  100.0   \n",
       "1                                    0.0   \n",
       "2                                    0.0   \n",
       "3                                   97.2   \n",
       "4                                   99.0   \n",
       "\n",
       "  Percentage in 4 hours or less (Type 3)  Emergency Admissions via Type 1 A&E  \\\n",
       "0                                   98.6                               5310.0   \n",
       "1                                   98.9                               6195.0   \n",
       "2                                  100.0                               9699.0   \n",
       "3                                   99.8                               6031.0   \n",
       "4                                   95.5                               9299.0   \n",
       "\n",
       "   Total Emergency Admissions via A&E  \\\n",
       "0                              5318.0   \n",
       "1                              6195.0   \n",
       "2                              9699.0   \n",
       "3                              6041.0   \n",
       "4                             10163.0   \n",
       "\n",
       "   Other Emergency admissions (i.e not via A&E)  Total Emergency Admissions  \\\n",
       "0                                        3136.0                      8454.0   \n",
       "1                                        2006.0                      8201.0   \n",
       "2                                        4654.0                     14353.0   \n",
       "3                                        2509.0                      8550.0   \n",
       "4                                        5483.0                     15646.0   \n",
       "\n",
       "   Number of patients spending >4 hours from decision to admit to admission  \\\n",
       "0                                             2070.0                          \n",
       "1                                              373.0                          \n",
       "2                                             4983.0                          \n",
       "3                                             2720.0                          \n",
       "4                                             1804.0                          \n",
       "\n",
       "   Number of patients spending >12 hours from decision to admit to admission  \n",
       "0                                              158.0                          \n",
       "1                                                0.0                          \n",
       "2                                              271.0                          \n",
       "3                                             1169.0                          \n",
       "4                                                1.0                          \n",
       "\n",
       "[5 rows x 24 columns]"
      ]
     },
     "execution_count": 29,
     "metadata": {},
     "output_type": "execute_result"
    }
   ],
   "source": [
    "df.head()"
   ]
  },
  {
   "cell_type": "markdown",
   "id": "b5b63539",
   "metadata": {},
   "source": [
    "#### Save the cleaned dataset"
   ]
  },
  {
   "cell_type": "code",
   "execution_count": 30,
   "id": "15ca5027",
   "metadata": {},
   "outputs": [],
   "source": [
    "df.to_csv('./data_AandE_attendances_clean/AandE_attendances_jan2024.csv', index = False)"
   ]
  },
  {
   "cell_type": "code",
   "execution_count": 31,
   "id": "f0909fb9",
   "metadata": {},
   "outputs": [
    {
     "name": "stdout",
     "output_type": "stream",
     "text": [
      "(924, 24)\n"
     ]
    },
    {
     "data": {
      "text/html": [
       "<div>\n",
       "<style scoped>\n",
       "    .dataframe tbody tr th:only-of-type {\n",
       "        vertical-align: middle;\n",
       "    }\n",
       "\n",
       "    .dataframe tbody tr th {\n",
       "        vertical-align: top;\n",
       "    }\n",
       "\n",
       "    .dataframe thead th {\n",
       "        text-align: right;\n",
       "    }\n",
       "</style>\n",
       "<table border=\"1\" class=\"dataframe\">\n",
       "  <thead>\n",
       "    <tr style=\"text-align: right;\">\n",
       "      <th></th>\n",
       "      <th>Code</th>\n",
       "      <th>System</th>\n",
       "      <th>Attendances (Type 1)</th>\n",
       "      <th>Attendances (Type 2)</th>\n",
       "      <th>Attendances (Type 3)</th>\n",
       "      <th>Attendances (Total)</th>\n",
       "      <th>Attendances in 4 hours or less (Type 1)</th>\n",
       "      <th>Attendances in 4 hours or less (Type 2)</th>\n",
       "      <th>Attendances under 4 hours (Type 3)</th>\n",
       "      <th>Attendances under 4 hours (Total)</th>\n",
       "      <th>...</th>\n",
       "      <th>Percentage in 4 hours or less (Total)</th>\n",
       "      <th>Percentage in 4 hours or less (Type 1)</th>\n",
       "      <th>Percentage in 4 hours or less (Type 2)</th>\n",
       "      <th>Percentage in 4 hours or less (Type 3)</th>\n",
       "      <th>Emergency Admissions via Type 1 A&amp;E</th>\n",
       "      <th>Total Emergency Admissions via A&amp;E</th>\n",
       "      <th>Other Emergency admissions (i.e not via A&amp;E)</th>\n",
       "      <th>Total Emergency Admissions</th>\n",
       "      <th>Number of patients spending &gt;4 hours from decision to admit to admission</th>\n",
       "      <th>Number of patients spending &gt;12 hours from decision to admit to admission</th>\n",
       "    </tr>\n",
       "  </thead>\n",
       "  <tbody>\n",
       "    <tr>\n",
       "      <th>0</th>\n",
       "      <td>QOX</td>\n",
       "      <td>NHS Bath And North East Somerset, Swindon And ...</td>\n",
       "      <td>16474</td>\n",
       "      <td>249</td>\n",
       "      <td>8983</td>\n",
       "      <td>25706</td>\n",
       "      <td>9432</td>\n",
       "      <td>249</td>\n",
       "      <td>8855</td>\n",
       "      <td>18536</td>\n",
       "      <td>...</td>\n",
       "      <td>72.1</td>\n",
       "      <td>57.3</td>\n",
       "      <td>100.0</td>\n",
       "      <td>98.6</td>\n",
       "      <td>5310.0</td>\n",
       "      <td>5318.0</td>\n",
       "      <td>3136.0</td>\n",
       "      <td>8454.0</td>\n",
       "      <td>2070.0</td>\n",
       "      <td>158.0</td>\n",
       "    </tr>\n",
       "    <tr>\n",
       "      <th>1</th>\n",
       "      <td>QHG</td>\n",
       "      <td>NHS Bedfordshire, Luton And Milton Keynes Inte...</td>\n",
       "      <td>21440</td>\n",
       "      <td>0</td>\n",
       "      <td>11045</td>\n",
       "      <td>32485</td>\n",
       "      <td>6097</td>\n",
       "      <td>0</td>\n",
       "      <td>6719</td>\n",
       "      <td>12816</td>\n",
       "      <td>...</td>\n",
       "      <td>85.9</td>\n",
       "      <td>75.0</td>\n",
       "      <td>0.0</td>\n",
       "      <td>98.9</td>\n",
       "      <td>6195.0</td>\n",
       "      <td>6195.0</td>\n",
       "      <td>2006.0</td>\n",
       "      <td>8201.0</td>\n",
       "      <td>373.0</td>\n",
       "      <td>0.0</td>\n",
       "    </tr>\n",
       "    <tr>\n",
       "      <th>2</th>\n",
       "      <td>QHL</td>\n",
       "      <td>NHS Birmingham And Solihull Integrated Care Board</td>\n",
       "      <td>36567</td>\n",
       "      <td>0</td>\n",
       "      <td>15427</td>\n",
       "      <td>51994</td>\n",
       "      <td>21443</td>\n",
       "      <td>0</td>\n",
       "      <td>15427</td>\n",
       "      <td>36870</td>\n",
       "      <td>...</td>\n",
       "      <td>70.9</td>\n",
       "      <td>58.6</td>\n",
       "      <td>0.0</td>\n",
       "      <td>100.0</td>\n",
       "      <td>9699.0</td>\n",
       "      <td>9699.0</td>\n",
       "      <td>4654.0</td>\n",
       "      <td>14353.0</td>\n",
       "      <td>4983.0</td>\n",
       "      <td>271.0</td>\n",
       "    </tr>\n",
       "  </tbody>\n",
       "</table>\n",
       "<p>3 rows × 24 columns</p>\n",
       "</div>"
      ],
      "text/plain": [
       "  Code                                             System  \\\n",
       "0  QOX  NHS Bath And North East Somerset, Swindon And ...   \n",
       "1  QHG  NHS Bedfordshire, Luton And Milton Keynes Inte...   \n",
       "2  QHL  NHS Birmingham And Solihull Integrated Care Board   \n",
       "\n",
       "   Attendances (Type 1)  Attendances (Type 2)  Attendances (Type 3)  \\\n",
       "0                 16474                   249                  8983   \n",
       "1                 21440                     0                 11045   \n",
       "2                 36567                     0                 15427   \n",
       "\n",
       "   Attendances (Total)   Attendances in 4 hours or less (Type 1)  \\\n",
       "0                 25706                                     9432   \n",
       "1                 32485                                     6097   \n",
       "2                 51994                                    21443   \n",
       "\n",
       "   Attendances in 4 hours or less (Type 2)  \\\n",
       "0                                      249   \n",
       "1                                        0   \n",
       "2                                        0   \n",
       "\n",
       "   Attendances under 4 hours (Type 3)  Attendances under 4 hours (Total)  ...  \\\n",
       "0                                8855                              18536  ...   \n",
       "1                                6719                              12816  ...   \n",
       "2                               15427                              36870  ...   \n",
       "\n",
       "   Percentage in 4 hours or less (Total)  \\\n",
       "0                                   72.1   \n",
       "1                                   85.9   \n",
       "2                                   70.9   \n",
       "\n",
       "   Percentage in 4 hours or less (Type 1)  \\\n",
       "0                                    57.3   \n",
       "1                                    75.0   \n",
       "2                                    58.6   \n",
       "\n",
       "   Percentage in 4 hours or less (Type 2)  \\\n",
       "0                                   100.0   \n",
       "1                                     0.0   \n",
       "2                                     0.0   \n",
       "\n",
       "   Percentage in 4 hours or less (Type 3)  \\\n",
       "0                                    98.6   \n",
       "1                                    98.9   \n",
       "2                                   100.0   \n",
       "\n",
       "   Emergency Admissions via Type 1 A&E  Total Emergency Admissions via A&E  \\\n",
       "0                               5310.0                              5318.0   \n",
       "1                               6195.0                              6195.0   \n",
       "2                               9699.0                              9699.0   \n",
       "\n",
       "   Other Emergency admissions (i.e not via A&E)  Total Emergency Admissions  \\\n",
       "0                                        3136.0                      8454.0   \n",
       "1                                        2006.0                      8201.0   \n",
       "2                                        4654.0                     14353.0   \n",
       "\n",
       "   Number of patients spending >4 hours from decision to admit to admission  \\\n",
       "0                                             2070.0                          \n",
       "1                                              373.0                          \n",
       "2                                             4983.0                          \n",
       "\n",
       "   Number of patients spending >12 hours from decision to admit to admission  \n",
       "0                                              158.0                          \n",
       "1                                                0.0                          \n",
       "2                                              271.0                          \n",
       "\n",
       "[3 rows x 24 columns]"
      ]
     },
     "execution_count": 31,
     "metadata": {},
     "output_type": "execute_result"
    }
   ],
   "source": [
    "df = pd.read_csv('./data_AandE_attendances_clean/AandE_attendances_jan2024.csv')\n",
    "print(df.shape)\n",
    "df.head(3)"
   ]
  },
  {
   "cell_type": "code",
   "execution_count": 32,
   "id": "7e24b296",
   "metadata": {},
   "outputs": [
    {
     "name": "stdout",
     "output_type": "stream",
     "text": [
      "Columns with missing values:\n",
      "Series([], dtype: int64)\n"
     ]
    }
   ],
   "source": [
    "z = df.isnull().sum()\n",
    "print(f'Columns with missing values:\\n{z[z > 0]}')"
   ]
  },
  {
   "cell_type": "code",
   "execution_count": 33,
   "id": "c17c9e80",
   "metadata": {},
   "outputs": [
    {
     "data": {
      "text/plain": [
       "Code                                                                          object\n",
       "System                                                                        object\n",
       "Attendances (Type 1)                                                           int64\n",
       "Attendances (Type 2)                                                           int64\n",
       "Attendances (Type 3)                                                           int64\n",
       "Attendances (Total)                                                            int64\n",
       "Attendances in 4 hours or less (Type 1)                                        int64\n",
       "Attendances in 4 hours or less (Type 2)                                        int64\n",
       "Attendances under 4 hours (Type 3)                                             int64\n",
       "Attendances under 4 hours (Total)                                              int64\n",
       "Attendances over 4 hours (Type 1)                                              int64\n",
       "Attendances over 4 hours (Type 2)                                              int64\n",
       "Attendances over 4 hours (Type 3)                                              int64\n",
       "Attendances over 4 hours (Total)                                               int64\n",
       "Percentage in 4 hours or less (Total)                                        float64\n",
       "Percentage in 4 hours or less (Type 1)                                       float64\n",
       "Percentage in 4 hours or less (Type 2)                                       float64\n",
       "Percentage in 4 hours or less (Type 3)                                       float64\n",
       "Emergency Admissions via Type 1 A&E                                          float64\n",
       "Total Emergency Admissions via A&E                                           float64\n",
       "Other Emergency admissions (i.e not via A&E)                                 float64\n",
       "Total Emergency Admissions                                                   float64\n",
       "Number of patients spending >4 hours from decision to admit to admission     float64\n",
       "Number of patients spending >12 hours from decision to admit to admission    float64\n",
       "dtype: object"
      ]
     },
     "execution_count": 33,
     "metadata": {},
     "output_type": "execute_result"
    }
   ],
   "source": [
    "df.dtypes"
   ]
  },
  {
   "cell_type": "markdown",
   "id": "1cbf5e28",
   "metadata": {},
   "source": [
    "### Testing a One Population Proportion\n",
    "\n",
    "### Research Question  \n",
    "Did NHSE achieve the national target **proportion of `0.76 (76%)`** 4-hour performance in March 2024   of **A&E attendances that are admitted, transferred or discharged from A&E within 4-hours of arrival**?\n",
    "\n",
    "\n",
    "#### State the null (H0) and alternative (H1) hypothesis\n",
    "* Null Hypothesis: NHSE will archieve an A&E performance of at least **`76%`** in March 2024 (H0: p = 0.76).\n",
    "* Alternative Hypothesis: NHSE will archieve an A&E performance of less than **`76%`** in March 2024 (H0: p $\\lt$ 0.76).\n",
    "\n",
    "#### Set significant level\n",
    "For a **95%** confidence level the significance level is alpha is **5%** ($\\alpha = 0.05$).\n",
    "\n",
    "### Testing a One Population Proportion\n",
    "\n",
    "$TestStatistic = \\frac{BestEstimate - HypothesizedEstimate}{StandardErrorOfEstimate} = \\frac{\\bar{p} - p_0}{SE}$\n",
    "\n",
    "$SE(\\bar{p}) = \\sqrt{\\frac{p.(1 - p)}{n}} => SE(\\bar{p}) = \\sqrt{\\frac{p_0.(1 - p_0)}{n}}$  since we don't know the population **p** yet we can approximate it using $p_0$.\n",
    "\n",
    "#### Assumptions\n",
    "* **A&E attendances** were sampled randomly \n",
    "* The sample size is large enough for us to assume that the distribution of our sample is **normal** (`n x p0 > 10`) and `n x (1 - p0) > 10`)."
   ]
  },
  {
   "cell_type": "code",
   "execution_count": 34,
   "id": "e5a671ba",
   "metadata": {},
   "outputs": [
    {
     "name": "stdout",
     "output_type": "stream",
     "text": [
      "count    924.000000\n",
      "mean      71.340801\n",
      "std        6.589403\n",
      "min       48.800000\n",
      "25%       67.400000\n",
      "50%       71.300000\n",
      "75%       75.200000\n",
      "max      100.000000\n",
      "Name: Percentage in 4 hours or less (Total), dtype: float64\n"
     ]
    }
   ],
   "source": [
    "data = df.loc[:, 'Percentage in 4 hours or less (Total)']\n",
    "print(data.describe())"
   ]
  },
  {
   "cell_type": "code",
   "execution_count": 35,
   "id": "30c95bf5",
   "metadata": {},
   "outputs": [
    {
     "data": {
      "image/png": "[encoded data removed]",
      "text/plain": [
       "<Figure size 1600x600 with 3 Axes>"
      ]
     },
     "metadata": {},
     "output_type": "display_data"
    }
   ],
   "source": [
    "fig, axes = plt.subplots(1, 3, figsize = (16, 6), sharex = False)\n",
    "sns.histplot(data, kde = True, ax = axes[0])\n",
    "axes[0].title.set_text('Historgram of PCT in <=4 hours (Total)')\n",
    "stats.probplot(data, dist = 'norm', plot = axes[1])              \n",
    "axes[1].title.set_text('QQ plot PCT in <=4 hours (Total)')\n",
    "sns.boxplot(x = data, ax = axes[2])\n",
    "axes[2].title.set_text('Boxplot of PCT in <=4 hours (Total)')\n",
    "plt.show()"
   ]
  },
  {
   "cell_type": "code",
   "execution_count": 36,
   "id": "fe3dbd86",
   "metadata": {},
   "outputs": [],
   "source": [
    "fig.savefig('./Technical round materials/charts/hist_qq_box_pct_total.png')"
   ]
  },
  {
   "cell_type": "code",
   "execution_count": 37,
   "id": "38c10450",
   "metadata": {},
   "outputs": [
    {
     "name": "stdout",
     "output_type": "stream",
     "text": [
      "Best Estimate (p_hat) = 0.208\n"
     ]
    }
   ],
   "source": [
    "n = data.describe()['count']                           # Number of samples\n",
    "p0 = 0.76                                              # the null hypothesis\n",
    "x = np.sum(data > 76)                                  # Number of samples greater than target\n",
    "p_hat = x / n                                          # sample proportion\n",
    "print(f'Best Estimate (p_hat) = {round(p_hat, 3)}')"
   ]
  },
  {
   "cell_type": "markdown",
   "id": "2ec9c574",
   "metadata": {},
   "source": [
    "#### Check assumptions\n",
    "For a **binomial distribution** if $np \\gt 10$ and $n(1 - p) \\gt 10$ then the distribution can be approximated as **normal** and the **Central Limit Theorem** can be applied to any sample drawn from the population."
   ]
  },
  {
   "cell_type": "code",
   "execution_count": 38,
   "id": "cc3b166b",
   "metadata": {},
   "outputs": [
    {
     "name": "stdout",
     "output_type": "stream",
     "text": [
      "Assumption is met :)!\n"
     ]
    }
   ],
   "source": [
    "if (n * p0 > 10) & (n * (1 - p0) > 10):\n",
    "    print('Assumption is met :)!')\n",
    "else:\n",
    "    print('Assumption is not met :(!')"
   ]
  },
  {
   "cell_type": "markdown",
   "id": "ff6ace58",
   "metadata": {},
   "source": [
    "**We will use statsmodels's `stats.proportions_ztest` method to compute the test statistic and p-value**."
   ]
  },
  {
   "cell_type": "code",
   "execution_count": 39,
   "id": "f3858c7c",
   "metadata": {},
   "outputs": [
    {
     "name": "stdout",
     "output_type": "stream",
     "text": [
      "test Statistic (z-value) = -41.372\n",
      "p-value =  0.0000\n",
      "\n",
      "Significant outcome! Reject the null hypothesis which states that:\n",
      "NHSE will achieve an A&E performance of at least 76% in March 2024 (H0: p = 0.76)\n",
      "\n"
     ]
    }
   ],
   "source": [
    "H0 = \"NHSE will achieve an A&E performance of at least 76% in March 2024 (H0: p = 0.76)\"\n",
    "H1 = \"NHSE will achieve an A&E performance of less than 76% in March 2024\"\n",
    "\n",
    "alpha = 0.05 \n",
    "test_stat, pvalue = sm.stats.proportions_ztest(x, n, p0, alternative = 'smaller')\n",
    "print(f'test Statistic (z-value) = {test_stat: .3f}\\np-value = {pvalue: .4f}\\n')\n",
    "\n",
    "if pvalue <= alpha:\n",
    "    print(f'Significant outcome! Reject the null hypothesis which states that:\\n{H0}\\n')\n",
    "else:\n",
    "    print(f'Not significant outcome! Fail to reject the null hypothesis which states that:\\n{H0}')\n",
    "    print('The results from the observed sample is due to random chance!')"
   ]
  },
  {
   "cell_type": "markdown",
   "id": "32014020",
   "metadata": {},
   "source": [
    "#### What does this mean?\n",
    "**Rejecting the null hypothesis** means that the observed result (from sample data) of **0.208 or 20.8%** is **not** due to random chance but due to an underlying population characteristics! \n",
    "\n",
    "* The **test statistic = -41.372** is negative suggesting that the **proportion** of **A&E attendances that are admitted, transferred or discharged from A&E within 4-hours of arrival** is **less than 76%**!\n",
    "\n",
    "### Computing Confidence Interval using statsmodels's `stats` package\n",
    "**Confidence Interval for a proportion** is easily handled by statsmodels's **`stats.proportion_confint`** which accepts **2** arguments: **`x = number of respondents who answered YES`** and **`n = Total number of respondents`**."
   ]
  },
  {
   "cell_type": "code",
   "execution_count": 40,
   "id": "b1a02226",
   "metadata": {},
   "outputs": [
    {
     "name": "stdout",
     "output_type": "stream",
     "text": [
      "Confidence Interval = ( 0.1816,  0.2340) or ( 18.16%,  23.40%)\n"
     ]
    }
   ],
   "source": [
    "ci = sm.stats.proportion_confint(x, n)\n",
    "print(f'Confidence Interval = ({ci[0]: .4f}, {ci[1]: .4f}) or ({ci[0]*100: .2f}%, {ci[1]*100: .2f}%)')"
   ]
  },
  {
   "cell_type": "markdown",
   "id": "ca9dba78",
   "metadata": {},
   "source": [
    "#### Interpretation of the results\n",
    "With **95%** confidence, the **proportion** of **A&E attendances that are admitted, transferred or discharged from A&E within 4-hours of arrival** is *estimated* to be between **18.16%** and  **23.40%**. The center of this interval is the **best estimate = 20.8%** of the population parameter.\n",
    "\n",
    "* **NOTE: The Null value of `76%` is not within the confidence interval**!\n",
    "\n",
    "This means, if this procedure were repeated over and over, each time computing the **95%** confidence interval estimate, we would expect **95% of those resulting `intervals` to contain the true population proportion of `A&E attendances that are admitted, transferred or discharged from A&E within 4-hours of arrival` and `76%` will not be within this interval!**."
   ]
  },
  {
   "cell_type": "markdown",
   "id": "3201b0ae",
   "metadata": {},
   "source": [
    "### Tier Three ICBs"
   ]
  },
  {
   "cell_type": "code",
   "execution_count": 41,
   "id": "25833c8b",
   "metadata": {},
   "outputs": [
    {
     "data": {
      "text/plain": [
       "6     72.3\n",
       "7     76.9\n",
       "10    68.1\n",
       "12    70.8\n",
       "15    63.3\n",
       "Name: Percentage in 4 hours or less (Total), dtype: float64"
      ]
     },
     "execution_count": 41,
     "metadata": {},
     "output_type": "execute_result"
    }
   ],
   "source": [
    "t3_icbs = ['NHS Cheshire And Merseyside Integrated Care Board',\n",
    "           'NHS Cornwall And The Isles Of Scilly Integrated Care Board',\n",
    "           'NHS Devon Integrated Care Board',\n",
    "           'NHS Greater Manchester Integrated Care Board',\n",
    "           'NHS Kent And Medway Integrated Care Board',\n",
    "           'NHS Norfolk And Waveney Integrated Care Board',\n",
    "           'NHS North East London Integrated Care Board'\n",
    "          ]\n",
    "t3_data = df.loc[df.System.isin(t3_icbs), 'Percentage in 4 hours or less (Total)']\n",
    "t3_data.head()"
   ]
  },
  {
   "cell_type": "code",
   "execution_count": 42,
   "id": "7de64d2d",
   "metadata": {},
   "outputs": [
    {
     "name": "stdout",
     "output_type": "stream",
     "text": [
      "154\n"
     ]
    }
   ],
   "source": [
    "print(len(t3_data))"
   ]
  },
  {
   "cell_type": "code",
   "execution_count": 43,
   "id": "fa872a6c",
   "metadata": {},
   "outputs": [
    {
     "name": "stdout",
     "output_type": "stream",
     "text": [
      "count    154.000000\n",
      "mean      70.416883\n",
      "std        6.229487\n",
      "min       53.800000\n",
      "25%       65.375000\n",
      "50%       70.450000\n",
      "75%       76.225000\n",
      "max       82.300000\n",
      "Name: Percentage in 4 hours or less (Total), dtype: float64\n"
     ]
    }
   ],
   "source": [
    "print(t3_data.describe())"
   ]
  },
  {
   "cell_type": "code",
   "execution_count": 44,
   "id": "0611437c",
   "metadata": {},
   "outputs": [
    {
     "data": {
      "image/png": "[encoded data removed]",
      "text/plain": [
       "<Figure size 1600x600 with 3 Axes>"
      ]
     },
     "metadata": {},
     "output_type": "display_data"
    }
   ],
   "source": [
    "fig, axes = plt.subplots(1, 3, figsize = (16, 6), sharex = False)\n",
    "sns.histplot(t3_data, kde = True, ax = axes[0])\n",
    "axes[0].title.set_text('Tier 3 Historgram of PCT in <=4 hours (Total)')\n",
    "stats.probplot(t3_data, dist = 'norm', plot = axes[1])              \n",
    "axes[1].title.set_text('Tier 3 QQ plot PCT in <=4 hours (Total)')\n",
    "sns.boxplot(x = t3_data, ax = axes[2])\n",
    "axes[2].title.set_text('Tier 3 Boxplot of PCT in <=4 hours (Total)')\n",
    "plt.show()"
   ]
  },
  {
   "cell_type": "code",
   "execution_count": 45,
   "id": "c49777a2",
   "metadata": {},
   "outputs": [],
   "source": [
    "fig.savefig('./Technical round materials/charts/t3_hist_qq_box_pct_total.png')"
   ]
  },
  {
   "cell_type": "code",
   "execution_count": 46,
   "id": "5e9f7ffe",
   "metadata": {},
   "outputs": [
    {
     "name": "stdout",
     "output_type": "stream",
     "text": [
      "Best Estimate (p_hat) = 0.253\n"
     ]
    }
   ],
   "source": [
    "n = t3_data.describe()['count']                           # Number of samples\n",
    "p0 = 0.76                                                 # the null hypothesis\n",
    "x = np.sum(t3_data > 76)                                  # Number of samples greater than target\n",
    "p_hat = x / n                                             # sample proportion\n",
    "print(f'Best Estimate (p_hat) = {round(p_hat, 3)}')"
   ]
  },
  {
   "cell_type": "markdown",
   "id": "31eb6b19",
   "metadata": {},
   "source": [
    "### Check Assumptions"
   ]
  },
  {
   "cell_type": "code",
   "execution_count": 47,
   "id": "0ad3135d",
   "metadata": {},
   "outputs": [
    {
     "name": "stdout",
     "output_type": "stream",
     "text": [
      "Assumption is met :)!\n"
     ]
    }
   ],
   "source": [
    "if (n * p0 > 10) & (n * (1 - p0) > 10):\n",
    "    print('Assumption is met :)!')\n",
    "else:\n",
    "    print('Assumption is not met :(!')"
   ]
  },
  {
   "cell_type": "markdown",
   "id": "9d067a72",
   "metadata": {},
   "source": [
    "### Testing the hypothesis"
   ]
  },
  {
   "cell_type": "code",
   "execution_count": 48,
   "id": "beb4a083",
   "metadata": {},
   "outputs": [
    {
     "name": "stdout",
     "output_type": "stream",
     "text": [
      "test Statistic (z-value) = -14.461\n",
      "p-value =  0.0000\n",
      "\n",
      "Significant outcome! Reject the null hypothesis which states that:\n",
      "NHSE will achieve an A&E performance of at least 76% in March 2024 for Tier 3\n",
      "\n"
     ]
    }
   ],
   "source": [
    "H0 = \"NHSE will achieve an A&E performance of at least 76% in March 2024 for Tier 3\"\n",
    "H1 = \"NHSE will achieve an A&E performance of less than 76% in March 2024 for Tier 3\"\n",
    "\n",
    "alpha = 0.05 \n",
    "test_stat, pvalue = sm.stats.proportions_ztest(x, n, p0, alternative = 'smaller')\n",
    "print(f'test Statistic (z-value) = {test_stat: .3f}\\np-value = {pvalue: .4f}\\n')\n",
    "\n",
    "if pvalue <= alpha:\n",
    "    print(f'Significant outcome! Reject the null hypothesis which states that:\\n{H0}\\n')\n",
    "else:\n",
    "    print(f'Not significant outcome! Fail to reject the null hypothesis which states that:\\n{H0}')\n",
    "    print('The results from the observed sample is due to random chance!')"
   ]
  },
  {
   "cell_type": "markdown",
   "id": "d20ed6d3",
   "metadata": {},
   "source": [
    "### Calculate Confidence Interval"
   ]
  },
  {
   "cell_type": "code",
   "execution_count": 49,
   "id": "3c58d24c",
   "metadata": {},
   "outputs": [
    {
     "name": "stdout",
     "output_type": "stream",
     "text": [
      "Confidence Interval = ( 0.1846,  0.3219) or ( 18.46%,  32.19%)\n"
     ]
    }
   ],
   "source": [
    "ci = sm.stats.proportion_confint(x, n)\n",
    "print(f'Confidence Interval = ({ci[0]: .4f}, {ci[1]: .4f}) or ({ci[0]*100: .2f}%, {ci[1]*100: .2f}%)')"
   ]
  },
  {
   "cell_type": "markdown",
   "id": "2fc6efee",
   "metadata": {},
   "source": [
    "#### Interpretation of the results\n",
    "With **95%** confidence, the **proportion** of **Tier 3 A&E attendances that are admitted, transferred or discharged from A&E within 4-hours of arrival** is *estimated* to be between **18.46%** and  **32.19%**. The center of this interval is the **best estimate = 25.3%** of the population parameter.\n",
    "\n",
    "* **NOTE: The Null value of `76%` is not within the confidence interval**!\n",
    "\n",
    "### My Response to the Secretary of State for Health\n",
    "***The Secretary of State for Health has asked me to analyse NHS data to determine what impact (if \n",
    "any) the `tiering system has had on the performance of the ICBs receiving tier three support`.***\n",
    "\n",
    "* With **95%** confidence, the **proportion** of **`Trust-Level` A&E attendances that are admitted, transferred or discharged from A&E within 4-hours of arrival** is *estimated* to be between **18.16%** and  **23.40%**. The center of this interval is the **best estimate = 20.8%** of the population parameter.\n",
    "\n",
    "* With **95%** confidence, the **proportion** of **`Tier 3 (ICBs)` A&E attendances that are admitted, transferred or discharged from A&E within 4-hours of arrival** is *estimated* to be between **18.46%** and  **32.19%**. The center of this interval is the **best estimate = 25.3%** of the population parameter.\n",
    "\n",
    "### Conclusions\n",
    "* Has **being in Tier 3 impacted performance**?: **`No significant being in Tier 3`**\n",
    "\n",
    "* If so, **where has it had the most impact?**: **`No significant being in Tier 3`**  \n",
    "\n",
    "* How does the **impact at trust-level differ from the impact at ICB-level?**: **`No noticeable difference in impact between trust-level and ICB-level`**\n",
    "\n",
    "* Has the **tiering system targeted the right ICBs?**: **`Probably not. Subject matter knowledge is highly needed to answer this question`** \n",
    "\n",
    "* How would you approach tiering if were to repeat this exercise next year?: **`Subject matter knowledge is highly needed to answer this question`** \n",
    "\n",
    "* How you would develop your analysis further given more time?: **`With more time I would have had a conversation with an subject expert so as to better understand the Policy Problem`**."
   ]
  },
  {
   "cell_type": "code",
   "execution_count": null,
   "id": "d0336546",
   "metadata": {},
   "outputs": [],
   "source": []
  }
 ],
 "metadata": {
  "kernelspec": {
   "display_name": "Python 3 (ipykernel)",
   "language": "python",
   "name": "python3"
  },
  "language_info": {
   "codemirror_mode": {
    "name": "ipython",
    "version": 3
   },
   "file_extension": ".py",
   "mimetype": "text/x-python",
   "name": "python",
   "nbconvert_exporter": "python",
   "pygments_lexer": "ipython3",
   "version": "3.9.17"
  }
 },
 "nbformat": 4,
 "nbformat_minor": 5
}
